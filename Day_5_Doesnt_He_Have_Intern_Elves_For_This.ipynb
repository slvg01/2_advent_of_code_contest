{
 "cells": [
  {
   "cell_type": "markdown",
   "metadata": {},
   "source": [
    "--- Day 5: Doesn't He Have Intern-Elves For This? ---\n",
    "Santa needs help figuring out which strings in his text file are naughty or nice.\n",
    "\n",
    "A nice string is one with all of the following properties:\n",
    "\n",
    "It contains at least three vowels (aeiou only), like aei, xazegov, or aeiouaeiouaeiou.\n",
    "It contains at least one letter that appears twice in a row, like xx, abcdde (dd), or aabbccdd (aa, bb, cc, or dd).\n",
    "It does not contain the strings ab, cd, pq, or xy, even if they are part of one of the other requirements.\n",
    "For example:\n",
    "\n",
    "ugknbfddgicrmopn is nice because it has at least three vowels (u...i...o...), a double letter (...dd...), and none of the disallowed substrings.\n",
    "aaa is nice because it has at least three vowels and a double letter, even though the letters used by different rules overlap.\n",
    "jchzalrnumimnmhp is naughty because it has no double letter.\n",
    "haegwjzuvuyypxyu is naughty because it contains the string xy.\n",
    "dvszwmarrgswjxmb is naughty because it contains only one vowel.\n",
    "How many strings are nice?\n",
    "\n",
    "-- Part Two ---\n",
    "Realizing the error of his ways, Santa has switched to a better model of determining whether a string is naughty or nice. None of the old rules apply, as they are all clearly ridiculous.\n",
    "\n",
    "Now, a nice string is one with all of the following properties:\n",
    "\n",
    "It contains a pair of any two letters that appears at least twice in the string without overlapping, like xyxy (xy) or aabcdefgaa (aa), but not like aaa (aa, but it overlaps).\n",
    "It contains at least one letter which repeats with exactly one letter between them, like xyx, abcdefeghi (efe), or even aaa.\n",
    "For example:\n",
    "\n",
    "qjhvhtzxzqqjkmpb is nice because is has a pair that appears twice (qj) and a letter that repeats with exactly one letter between them (zxz).\n",
    "xxyxx is nice because it has a pair that appears twice and a letter that repeats with one between, even though the letters used by each rule overlap.\n",
    "uurcxstgmygtbstg is naughty because it has a pair (tg) but no repeat with a single letter between them.\n",
    "ieodomkazucvgmuy is naughty because it has a repeating letter with one between (odo), but no pair that appears twice.\n",
    "How many strings are nice under these new rules?\n"
   ]
  },
  {
   "cell_type": "code",
   "execution_count": 1,
   "metadata": {},
   "outputs": [],
   "source": [
    "import pandas as pd\n",
    "import numpy as np\n",
    "import matplotlib.pyplot as plt\n",
    "import re"
   ]
  },
  {
   "cell_type": "code",
   "execution_count": 2,
   "metadata": {},
   "outputs": [
    {
     "name": "stdout",
     "output_type": "stream",
     "text": [
      "236\n"
     ]
    }
   ],
   "source": [
    "\n",
    "# 2015_05a\n",
    "\n",
    "# Read the CSV file that contains the dimensions of the boxes\n",
    "df = pd.read_csv(r'P:\\8 - Sylvain PERSO\\7 - Jobsrch\\10 - New Job\\Formation\\FORMATION\\2 - DATA SCIENCE INITIATION - Digitalcity\\Exo PYTHON\\03_Advent_of_Code\\2015_05.csv')\n",
    "new = pd.DataFrame({'uxcplgxnkwbdwhrp':['uxcplgxnkwbdwhrp']})\n",
    "df = pd.concat([new,df],ignore_index=True)\n",
    "new_columns = ['String']\n",
    "df.columns = new_columns\n",
    "df.head()\n",
    "\n",
    "df['voy_test']=''\n",
    "df['double_letter']=''\n",
    "df['neg_test'] =''\n",
    "df['fin_count']=''\n",
    "\n",
    "def voyels_count (X) : \n",
    "    voyel = 'aeiou'\n",
    "    return sum(1 for char in X if char in voyel)\n",
    "\n",
    "def double_letter(X):\n",
    "    for i in range(len(X) - 1):\n",
    "        if X[i] == X[i + 1]:\n",
    "            return True\n",
    "    return False\n",
    "\n",
    "def neg_test (X) : \n",
    "    if any(substring in X for substring in ['ab', 'cd', 'pq', 'xy']):\n",
    "        return False\n",
    "    return True\n",
    "\n",
    "for label, row in df.iterrows() :\n",
    "    if voyels_count(row['String']) >= 3:\n",
    "        df.at[label, 'voy_test'] = True\n",
    "    else : \n",
    "        df.at[label, 'voy_test'] = False\n",
    "\n",
    "\n",
    "for label, row in df.iterrows() :\n",
    "    if double_letter(row['String']) :\n",
    "        df.at[label, 'double_letter'] = True\n",
    "    else : \n",
    "        df.at[label, 'double_letter'] = False\n",
    "\n",
    "for label, row in df.iterrows() :\n",
    "    if not neg_test (row['String']):\n",
    "        df.at[label, 'neg_test'] = False\n",
    "    else : \n",
    "        df.at[label, 'neg_test'] = True\n",
    "\n",
    "df['fin_count'] = np.where((df['voy_test'] == True) & (df['double_letter'] == True) & (df['neg_test'] == True), 1, 0)\n",
    "answer = df['fin_count'].sum()\n",
    "print(answer)"
   ]
  },
  {
   "cell_type": "code",
   "execution_count": 3,
   "metadata": {},
   "outputs": [
    {
     "name": "stdout",
     "output_type": "stream",
     "text": [
      "51\n"
     ]
    }
   ],
   "source": [
    "# 2015_05b\n",
    "\n",
    "# Read the CSV file that contains the dimensions of the boxes\n",
    "df = pd.read_csv(r'P:\\8 - Sylvain PERSO\\7 - Jobsrch\\10 - New Job\\Formation\\FORMATION\\2 - DATA SCIENCE INITIATION - Digitalcity\\Exo PYTHON\\03_Advent_of_Code\\2015_05.csv')\n",
    "new = pd.DataFrame({'uxcplgxnkwbdwhrp':['uxcplgxnkwbdwhrp']})\n",
    "df = pd.concat([new,df],ignore_index=True)\n",
    "new_columns = ['String']\n",
    "df.columns = new_columns\n",
    "df.head()\n",
    "\n",
    "df['double_letter']=''\n",
    "df['repeat_test'] =''\n",
    "df['fin_count']=''\n",
    "\n",
    "def double_letter(X):\n",
    "    pattern = r'(\\w\\w).*\\1'\n",
    "    return bool(re.search(pattern, X))\n",
    "\n",
    "def repeat_test (X) : \n",
    "    pattern = r'(.).{1}\\1'\n",
    "    return bool(re.search(pattern, X))\n",
    "\n",
    "for label, row in df.iterrows() :\n",
    "    if double_letter(row['String']) :\n",
    "        df.at[label, 'double_letter'] = True\n",
    "    else : \n",
    "        df.at[label, 'double_letter'] = False\n",
    "\n",
    "for label, row in df.iterrows() :\n",
    "    if repeat_test (row['String']):\n",
    "        df.at[label, 'repeat_test'] = True\n",
    "    else : \n",
    "        df.at[label, 'repeat_test'] = False\n",
    "\n",
    "df['fin_count'] = np.where( (df['double_letter'] == True) & (df['repeat_test'] == True), 1, 0)\n",
    "answer = df['fin_count'].sum()\n",
    "print(answer)\n"
   ]
  }
 ],
 "metadata": {
  "kernelspec": {
   "display_name": "base",
   "language": "python",
   "name": "python3"
  },
  "language_info": {
   "codemirror_mode": {
    "name": "ipython",
    "version": 3
   },
   "file_extension": ".py",
   "mimetype": "text/x-python",
   "name": "python",
   "nbconvert_exporter": "python",
   "pygments_lexer": "ipython3",
   "version": "3.11.5"
  }
 },
 "nbformat": 4,
 "nbformat_minor": 2
}
