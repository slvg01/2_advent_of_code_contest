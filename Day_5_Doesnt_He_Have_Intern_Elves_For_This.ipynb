{
 "cells": [
  {
   "cell_type": "markdown",
   "metadata": {},
   "source": [
    "--- Day 5: Doesn't He Have Intern-Elves For This? ---\n",
    "Santa needs help figuring out which strings in his text file are naughty or nice.\n",
    "\n",
    "A nice string is one with all of the following properties:\n",
    "\n",
    "It contains at least three vowels (aeiou only), like aei, xazegov, or aeiouaeiouaeiou.\n",
    "It contains at least one letter that appears twice in a row, like xx, abcdde (dd), or aabbccdd (aa, bb, cc, or dd).\n",
    "It does not contain the strings ab, cd, pq, or xy, even if they are part of one of the other requirements.\n",
    "For example:\n",
    "\n",
    "ugknbfddgicrmopn is nice because it has at least three vowels (u...i...o...), a double letter (...dd...), and none of the disallowed substrings.\n",
    "aaa is nice because it has at least three vowels and a double letter, even though the letters used by different rules overlap.\n",
    "jchzalrnumimnmhp is naughty because it has no double letter.\n",
    "haegwjzuvuyypxyu is naughty because it contains the string xy.\n",
    "dvszwmarrgswjxmb is naughty because it contains only one vowel.\n",
    "How many strings are nice?"
   ]
  },
  {
   "cell_type": "code",
   "execution_count": 2,
   "metadata": {},
   "outputs": [],
   "source": [
    "import pandas as pd\n",
    "import numpy as np\n",
    "import matplotlib.pyplot as plt"
   ]
  },
  {
   "cell_type": "code",
   "execution_count": null,
   "metadata": {},
   "outputs": [],
   "source": [
    "# 2015_05a\n",
    "import pandas as pd\n",
    "import re\n",
    "# Read the CSV file that contains the dimensions of the boxes\n",
    "df = pd.read_csv(r'P:\\8 - Sylvain PERSO\\7 - Jobsrch\\10 - New Job\\Formation\\FORMATION\\2 - DATA SCIENCE INITIATION - Digitalcity\\Exo PYTHON\\03_Advent_of_Code\\2015_05.csv')\n",
    "new = pd.DataFrame({'uxcplgxnkwbdwhrp':['uxcplgxnkwbdwhrp']})\n",
    "df = pd.concat([new,df],ignore_index=True)\n",
    "new_columns = ['String']\n",
    "df.columns = new_columns\n",
    "df.head()\n",
    "\n",
    "df['voy_test']=''\n",
    "df['double_letter']=''\n",
    "df['neg_test'] =''\n",
    "\n",
    "\n",
    "def voyels_count (X) : \n",
    "    voyel = 'aeiou'\n",
    "    return sum(1 for char in X if char in voyel)\n",
    "\n",
    "def double_letter(X):\n",
    "    for i in range(len(X) - 1):\n",
    "        if X[i] == X[i + 1]:\n",
    "            return True\n",
    "    return False\n",
    "\n",
    "def neg_test (X) : \n",
    "    if any(substring in X for substring in ['ab', 'cd', 'pq', 'xy']):\n",
    "        return False\n",
    "    return True\n",
    "\n",
    "\n",
    "for label, row in df.iterrows() :\n",
    "     if voyels_count(row['String']) >= 3:\n",
    "        df.at[label, 'voy_test'] = True\n",
    "\n",
    "for label, row in df.iterrows() :\n",
    "     if double_letter(row['String']) :\n",
    "        df.at[label, 'double_letter'] = True\n",
    "\n",
    "for label, row in df.iterrows() :\n",
    "     if not neg_test (row['String']):\n",
    "        df.at[label, 'neg_test'] = False\n",
    "\n",
    "\"\"\"df['voy_test'] = df['String'].apply(lambda x: voyels_count(x) >= 3)\n",
    "df['double_letter'] = df['String'].apply(lambda x: double_letter(x))\n",
    "df['neg_test'] = ~df['String'].apply(lambda x: neg_test(x))\"\"\"\n",
    "\n",
    "df.head()\n",
    "\n",
    "\n",
    "#df['contains_repeated_letter'] = df['String'].apply(lambda x: bool(re.search(r'(.)\\1', x)))\n",
    "\n"
   ]
  }
 ],
 "metadata": {
  "kernelspec": {
   "display_name": "base",
   "language": "python",
   "name": "python3"
  },
  "language_info": {
   "codemirror_mode": {
    "name": "ipython",
    "version": 3
   },
   "file_extension": ".py",
   "mimetype": "text/x-python",
   "name": "python",
   "nbconvert_exporter": "python",
   "pygments_lexer": "ipython3",
   "version": "3.11.5"
  }
 },
 "nbformat": 4,
 "nbformat_minor": 2
}
