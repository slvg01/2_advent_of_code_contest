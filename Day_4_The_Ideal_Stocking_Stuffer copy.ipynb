{
 "cells": [
  {
   "cell_type": "markdown",
   "metadata": {},
   "source": [
    "--- Day 4: The Ideal Stocking Stuffer ---\n",
    "Santa needs help mining some AdventCoins (very similar to bitcoins) to use as gifts for all the economically forward-thinking little girls and boys.\n",
    "\n",
    "To do this, he needs to find MD5 hashes which, in hexadecimal, start with at least five zeroes. The input to the MD5 hash is some secret key (your puzzle input, given below) followed by a number in decimal. To mine AdventCoins, you must find Santa the lowest positive number (no leading zeroes: 1, 2, 3, ...) that produces such a hash.\n",
    "\n",
    "For example:\n",
    "\n",
    "If your secret key is abcdef, the answer is 609043, because the MD5 hash of abcdef609043 starts with five zeroes (000001dbbfa...), and it is the lowest such number to do so.\n",
    "If your secret key is pqrstuv, the lowest number it combines with to make an MD5 hash starting with five zeroes is 1048970; that is, the MD5 hash of pqrstuv1048970 looks like 000006136ef....\n",
    "Your puzzle answer was 346386.\n",
    "\n",
    "--- Part Two ---\n",
    "Now find one that starts with six zeroes.\n",
    "\n",
    "Your puzzle answer was 9958218.\n",
    "\n",
    "Both parts of this puzzle are complete! They provide two gold stars: **\n",
    "\n",
    "At this point, you should return to your Advent calendar and try another puzzle."
   ]
  },
  {
   "cell_type": "code",
   "execution_count": 2,
   "metadata": {},
   "outputs": [],
   "source": [
    "import pandas as pd\n",
    "import numpy as np\n",
    "import matplotlib.pyplot as plt"
   ]
  },
  {
   "cell_type": "code",
   "execution_count": null,
   "metadata": {},
   "outputs": [
    {
     "name": "stdout",
     "output_type": "stream",
     "text": [
      "The lowest integer is: 346386\n",
      "The lowest integer is: 9958218\n"
     ]
    }
   ],
   "source": [
    "# 2015_4a\n",
    "import hashlib\n",
    "\n",
    "def find_lowest_integer(prefix, condition):\n",
    "    i = 0\n",
    "    while True:\n",
    "        candidate = f\"{prefix}{i}\"\n",
    "        hashed = hashlib.md5(candidate.encode()).hexdigest()\n",
    "        if hashed.startswith(condition):\n",
    "            return i\n",
    "        i += 1\n",
    "\n",
    "prefix = \"iwrupvqb\"\n",
    "condition = \"00000\"  # Adjust the condition based on your requirements\n",
    "\n",
    "result = find_lowest_integer(prefix, condition)\n",
    "print(f\"The lowest integer is: {result}\")\n",
    "\n",
    "# 2015_4b\n",
    "\n",
    "def find_lowest_integer(prefix, condition):\n",
    "    i = 0\n",
    "    while True:\n",
    "        candidate = f\"{prefix}{i}\"\n",
    "        hashed = hashlib.md5(candidate.encode()).hexdigest()\n",
    "        if hashed.startswith(condition):\n",
    "            return i\n",
    "        i += 1\n",
    "\n",
    "prefix = \"iwrupvqb\"\n",
    "condition = \"000000\"  # Adjust the condition based on your requirements\n",
    "\n",
    "result = find_lowest_integer(prefix, condition)\n",
    "print(f\"The lowest integer is: {result}\")"
   ]
  }
 ],
 "metadata": {
  "kernelspec": {
   "display_name": "base",
   "language": "python",
   "name": "python3"
  },
  "language_info": {
   "codemirror_mode": {
    "name": "ipython",
    "version": 3
   },
   "file_extension": ".py",
   "mimetype": "text/x-python",
   "name": "python",
   "nbconvert_exporter": "python",
   "pygments_lexer": "ipython3",
   "version": "3.11.5"
  }
 },
 "nbformat": 4,
 "nbformat_minor": 2
}
