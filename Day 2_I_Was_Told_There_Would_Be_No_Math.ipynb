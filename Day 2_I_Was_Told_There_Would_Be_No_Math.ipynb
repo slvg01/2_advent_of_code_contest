{
 "cells": [
  {
   "cell_type": "markdown",
   "metadata": {},
   "source": []
  },
  {
   "cell_type": "markdown",
   "metadata": {},
   "source": [
    "--- Day 2: I Was Told There Would Be No Math ---\n",
    "The elves are running low on wrapping paper, and so they need to submit an order for more. They have a list of the dimensions (length l, width w, and height h) of each present, and only want to order exactly as much as they need.\n",
    "\n",
    "Fortunately, every present is a box (a perfect right rectangular prism), which makes calculating the required wrapping paper for each gift a little easier: find the surface area of the box, which is 2*l*w + 2*w*h + 2*h*l. The elves also need a little extra paper for each present: the area of the smallest side.\n",
    "\n",
    "For example:\n",
    "\n",
    "A present with dimensions 2x3x4 requires 2*6 + 2*12 + 2*8 = 52 square feet of wrapping paper plus 6 square feet of slack, for a total of 58 square feet.\n",
    "A present with dimensions 1x1x10 requires 2*1 + 2*10 + 2*10 = 42 square feet of wrapping paper plus 1 square foot of slack, for a total of 43 square feet.\n",
    "All numbers in the elves' list are in feet. How many total square feet of wrapping paper should they order?\n",
    "\n",
    "Your puzzle answer was 1588178.\n",
    "\n",
    "--- Part Two ---\n",
    "The elves are also running low on ribbon. Ribbon is all the same width, so they only have to worry about the length they need to order, which they would again like to be exact.\n",
    "\n",
    "The ribbon required to wrap a present is the shortest distance around its sides, or the smallest perimeter of any one face. Each present also requires a bow made out of ribbon as well; the feet of ribbon required for the perfect bow is equal to the cubic feet of volume of the present. Don't ask how they tie the bow, though; they'll never tell.\n",
    "\n",
    "For example:\n",
    "\n",
    "A present with dimensions 2x3x4 requires 2+2+3+3 = 10 feet of ribbon to wrap the present plus 2*3*4 = 24 feet of ribbon for the bow, for a total of 34 feet.\n",
    "A present with dimensions 1x1x10 requires 1+1+1+1 = 4 feet of ribbon to wrap the present plus 1*1*10 = 10 feet of ribbon for the bow, for a total of 14 feet.\n",
    "How many total feet of ribbon should they order?"
   ]
  },
  {
   "cell_type": "code",
   "execution_count": 2,
   "metadata": {},
   "outputs": [],
   "source": [
    "import pandas as pd\n",
    "import numpy as np\n",
    "import matplotlib.pyplot as plt"
   ]
  },
  {
   "cell_type": "code",
   "execution_count": null,
   "metadata": {},
   "outputs": [
    {
     "name": "stdout",
     "output_type": "stream",
     "text": [
      "1588178\n",
      "3783758\n"
     ]
    }
   ],
   "source": [
    "# 2015_02a\n",
    "\n",
    "# Read the CSV file that contains the dimensions of the boxes\n",
    "df = pd.read_csv(r'P:\\8 - Sylvain PERSO\\7 - Jobsrch\\10 - New Job\\Formation\\FORMATION\\2 - DATA SCIENCE INITIATION - Digitalcity\\Exo PYTHON\\03_Advent_of_Code\\2015_02.csv')\n",
    "\n",
    "# Split the Size column into three columns: length, width, height\n",
    "df[['length', 'width', \"height\"]] = df['Size'].str.split('x', expand=True)\n",
    "\n",
    "# Convert the length, width, height columns to integers\n",
    "df[['length', 'width','height']] = df[['length', 'width','height']].astype(int)\n",
    "\n",
    "# Calculate the total surface area of each box\n",
    "df['surface']=2*df['length']*df['width']+ 2*df['width']*df['height'] +2*df['length']*df['height']\n",
    "\n",
    "# Calculate the minimum surface area of each box\n",
    "df['min'] = df[['length', 'width', \"height\"]].apply(lambda row: min(row['length']*row['width'], row['width']*row['height'], row['length']*row['height']), axis=1)\n",
    "\n",
    "# Calculate the wrapping paper needed for each box\n",
    "df['tot'] = df['min'] + df['surface']\n",
    "\n",
    "# Display the sum of the wrapping paper needed for all the boxes\n",
    "print(df['tot'].sum())\n",
    "\n",
    "\n",
    "\n",
    "\n",
    "#2015 2b\n",
    "\n",
    "# Calculate the volume of each box\n",
    "df['volume'] = df['length']*df['width']*df['height']\n",
    "\n",
    "# Calculate the smallest perimeter of each box\n",
    "df ['smallest_perimeter'] =2*np.partition(df[['length', 'width', 'height']], 2)[:, :2].sum(axis=1)\n",
    "\n",
    "# Calculate the ribbon needed for each box\n",
    "df ['ribbon_length'] =df['volume']+df ['smallest_perimeter']\n",
    "\n",
    "\n",
    "# Calculate the ribbon needed in total \n",
    "print(df['ribbon_length'].sum())\n",
    "\n"
   ]
  }
 ],
 "metadata": {
  "kernelspec": {
   "display_name": "base",
   "language": "python",
   "name": "python3"
  },
  "language_info": {
   "codemirror_mode": {
    "name": "ipython",
    "version": 3
   },
   "file_extension": ".py",
   "mimetype": "text/x-python",
   "name": "python",
   "nbconvert_exporter": "python",
   "pygments_lexer": "ipython3",
   "version": "3.11.5"
  }
 },
 "nbformat": 4,
 "nbformat_minor": 2
}
